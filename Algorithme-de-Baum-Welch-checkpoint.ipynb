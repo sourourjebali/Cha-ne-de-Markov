{
 "cells": [
  {
   "cell_type": "markdown",
   "id": "9d2b4dea-c9d9-4035-b681-3c7c0391d853",
   "metadata": {},
   "source": [
    "# Algorithme de Baum-Welch"
   ]
  },
  {
   "cell_type": "markdown",
   "id": "3eefbc78-7932-4f99-8d90-3d9bcf1db75c",
   "metadata": {},
   "source": []
  },
  {
   "cell_type": "markdown",
   "id": "993bf839-238a-4c6d-8f47-b7e2d2788509",
   "metadata": {},
   "source": [
    "### Import des bibliothéques "
   ]
  },
  {
   "cell_type": "code",
   "execution_count": 1,
   "id": "acf3048e-1cdd-4933-ae14-5046ee1fd22b",
   "metadata": {},
   "outputs": [],
   "source": [
    "import numpy as np"
   ]
  },
  {
   "cell_type": "markdown",
   "id": "6cded468-1d0a-4588-b923-f7f81b55fbd6",
   "metadata": {},
   "source": [
    "### Définition de la fonction forward"
   ]
  },
  {
   "cell_type": "markdown",
   "id": "66d2b8d2-0bd9-408b-a1ca-21b266fc2c96",
   "metadata": {},
   "source": [
    "La fonction forward prend en entrée une séquence d'observations O, une matrice de transition A, une matrice d'émission B et une distribution de probabilité initiale pi. \n",
    "Cette fonction calcule l'algorithme de Forward pour cette séquence d'observations, en utilisant les paramètres du modèle MMC spécifiés."
   ]
  },
  {
   "cell_type": "code",
   "execution_count": 2,
   "id": "2985fa65-7b63-46f1-be18-982ab694d776",
   "metadata": {},
   "outputs": [],
   "source": [
    "def forward(O, A, B, pi):\n",
    "    T = len(O)  #  la longueur de la séquence d'observations O\n",
    "    \n",
    "    N = A.shape[0]  # le nombre d'états dans le modèle MMC\n",
    "    \n",
    "    alpha = np.zeros((T, N))  \n",
    "    alpha[0,:] = pi * B[:, O[0]]  # initialisation d'alpha\n",
    "    \n",
    "    #calculer les valeurs suivantes de la matrice alpha\n",
    "    for t in range(1,T):\n",
    "        for j in range(N):\n",
    "            alpha[t,j] = np.dot(alpha[t-1,:], A[:,j]) * B[j, O[t]]  \n",
    "    return alpha"
   ]
  },
  {
   "cell_type": "markdown",
   "id": "11f2c063-bb46-4d21-a139-ccf56ab2c9be",
   "metadata": {},
   "source": [
    "### Définition de la fonction backward"
   ]
  },
  {
   "cell_type": "markdown",
   "id": "50bb6cad-a2cb-46d3-be4b-9ffe54b6c6a8",
   "metadata": {},
   "source": [
    "La fonction backward prend en entrée une séquence d'observations O, une matrice de transition A et une matrice de probabilités d'émission B.\n",
    "L'algorithme de Backward est utilisé pour calculer la probabilité d'observer une séquence d'observations donnée, à partir d'un modèle MMC spécifié par les paramètres de transition A et les probabilités d'émission B."
   ]
  },
  {
   "cell_type": "code",
   "execution_count": 3,
   "id": "9444cf7b-4062-4acb-9ba1-25c32d2ac3f6",
   "metadata": {},
   "outputs": [],
   "source": [
    "def backward(O, A, B):\n",
    "    T = len(O)  # la longueur de la séquence d'observations O\n",
    "    \n",
    "    N = A.shape[0]  # le nombre d'états dans le modèle MMC\n",
    "    \n",
    "    #matrice de zéros pour stocker les valeurs de beta et initialisent la dernière valeur de beta à 1\n",
    "    beta = np.zeros((T, N))  \n",
    "    beta[T-1,:] = 1  \n",
    "    \n",
    "    #calculer les valeurs de beta à chaque instant de temps\n",
    "    #Cette formule utilise les valeurs de beta calculées à l'instant de temps t+1 pour calculer les valeurs de beta à l'instant de temps t\n",
    "    for t in range(T-2, -1, -1):\n",
    "        for i in range(N):\n",
    "            beta[t,i] = np.sum(A[i,:] * B[:, O[t+1]] * beta[t+1,:])  # formule de récurrence de l'algorithme de Backward \n",
    "    return beta"
   ]
  },
  {
   "cell_type": "markdown",
   "id": "eadd8486-3ae0-446e-95ce-bcdb36509b32",
   "metadata": {},
   "source": [
    "### Définition de la fonction Baum-Welch"
   ]
  },
  {
   "cell_type": "markdown",
   "id": "f1ea1810-3b63-4397-b221-163a910cf225",
   "metadata": {},
   "source": [
    "La fonction Baum-Welch prend en entrée une séquence d'observations O, une matrice de transition A, une matrice d'émission B et une distribution initiale de probabilité pi.\n",
    "Algorithme de Baum-Welch pour entraîner un modèle MMC donné les observations O."
   ]
  },
  {
   "cell_type": "code",
   "execution_count": 4,
   "id": "e4fd056b-c1cb-4341-9fa9-ae23296d8afb",
   "metadata": {},
   "outputs": [],
   "source": [
    "def baum_welch(O, A, B, pi, tol=1e-6, max_iter=1000):\n",
    "    T = len(O) # la longueur de la séquence d'observations O\n",
    "    \n",
    "    N = A.shape[0] # # le nombre d'états dans le modèle MMC\n",
    "    \n",
    "    M = B.shape[1] # le nombre possible d'observations à partir de la matrice d'émission B\n",
    "\n",
    "    # calculer les probabilités alpha et beta à l'aide des fonctions \"forward\" et \"backward\"\n",
    "    alpha = forward(O, A, B, pi)\n",
    "    beta = backward(O, A, B)\n",
    "\n",
    "    #  calculer les variables intermédiaires xi et gamma \n",
    "    xi = np.zeros((T-1, N, N))\n",
    "    gamma = alpha * beta / np.sum(alpha[-1,:])\n",
    "\n",
    "    # calculer log-likelihood of des observations \n",
    "    ll_old = np.sum(np.log(np.sum(alpha[-1,:])))\n",
    "    ll_new = ll_old\n",
    "\n",
    "    #  initialiser un compteur d'itérations à 0\n",
    "    it = 0\n",
    "\n",
    "    # Itèrer jusqu'à atteindre une convergence ou un nombre maximal d'itérations\n",
    "    while (it < max_iter) and (np.abs(ll_new - ll_old) > tol):\n",
    "        # calculer xi et gamma.\n",
    "        for t in range(T-1):\n",
    "            xi[t,:,:] = A * np.outer(alpha[t,:], beta[t+1,:] * B[:, O[t+1]])\n",
    "            xi[t,:,:] /= np.sum(xi[t,:,:])\n",
    "        gamma = alpha * beta / np.sum(alpha[-1,:])\n",
    "\n",
    "        # mettre à jour pi, A et B \n",
    "        pi = gamma[0,:]\n",
    "        for i in range(N):\n",
    "            for j in range(N):\n",
    "                A[i,j] = np.sum(xi[:,i,j]) / np.sum(gamma[:-1,i])\n",
    "            for k in range(M):\n",
    "                B[i,k] = np.sum(gamma[:,i] * (O==k)) / np.sum(gamma[:,i])\n",
    "\n",
    "        # calculer la nouvelle log-likelihood\n",
    "        alpha = forward(O, A, B, pi)\n",
    "        ll_old = ll_new\n",
    "        ll_new = np.sum(np.log(np.sum(alpha[-1,:])))\n",
    "\n",
    "        # incrémenter le compteur d'itérations\n",
    "        it += 1\n",
    "\n",
    "    return ll_new, A, B, pi"
   ]
  },
  {
   "cell_type": "markdown",
   "id": "9a2f2dbf-51c4-4176-b2c3-730cbc062d3b",
   "metadata": {},
   "source": [
    "## Exemple"
   ]
  },
  {
   "cell_type": "code",
   "execution_count": 5,
   "id": "ec5970db",
   "metadata": {},
   "outputs": [
    {
     "name": "stdout",
     "output_type": "stream",
     "text": [
      "Probabilité de la séquence d'observation: P(O|lambda) = 0.0043810048\n"
     ]
    }
   ],
   "source": [
    "# Paramètres du modèle MMC\n",
    "A = np.array([[0.7, 0.3], [0.4, 0.6]]) # Matrice de transition\n",
    "B = np.array([[0.2, 0.4, 0.4], [0.5, 0.4, 0.1]]) # Matrice d'émission\n",
    "pi = np.array([0.6, 0.4]) # Distribution de probabilité initiale\n",
    "\n",
    "# Séquence d'observation\n",
    "O = np.array([0, 1, 2, 1, 0])\n",
    "\n",
    "# Entraînement du modèle MMC sur la séquence d'observation\n",
    "ll, A_new, B_new, pi_new = baum_welch(O, A, B, pi)\n",
    "\n",
    "# Calcul de la probabilité de la séquence d'observation\n",
    "alpha = forward(O, A_new, B_new, pi_new)\n",
    "p_O_given_lambda = np.sum(alpha[-1,:])\n",
    "\n",
    "print(\"Probabilité de la séquence d'observation: P(O|lambda) =\", p_O_given_lambda)"
   ]
  },
  {
   "cell_type": "code",
   "execution_count": null,
   "id": "5a383e9c",
   "metadata": {},
   "outputs": [],
   "source": []
  }
 ],
 "metadata": {
  "kernelspec": {
   "display_name": "Python 3 (ipykernel)",
   "language": "python",
   "name": "python3"
  },
  "language_info": {
   "codemirror_mode": {
    "name": "ipython",
    "version": 3
   },
   "file_extension": ".py",
   "mimetype": "text/x-python",
   "name": "python",
   "nbconvert_exporter": "python",
   "pygments_lexer": "ipython3",
   "version": "3.9.7"
  }
 },
 "nbformat": 4,
 "nbformat_minor": 5
}
